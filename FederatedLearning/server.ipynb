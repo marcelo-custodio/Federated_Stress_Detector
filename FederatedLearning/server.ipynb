{
 "cells": [
  {
   "cell_type": "code",
   "execution_count": 3,
   "metadata": {},
   "outputs": [],
   "source": [
    "import flwr as fl"
   ]
  },
  {
   "cell_type": "code",
   "execution_count": 4,
   "metadata": {},
   "outputs": [
    {
     "name": "stderr",
     "output_type": "stream",
     "text": [
      "INFO flwr 2023-07-05 17:02:45,144 | app.py:148 | Starting Flower server, config: ServerConfig(num_rounds=3, round_timeout=None)\n"
     ]
    },
    {
     "name": "stderr",
     "output_type": "stream",
     "text": [
      "INFO flwr 2023-07-05 17:02:45,176 | app.py:168 | Flower ECE: gRPC server running (3 rounds), SSL is disabled\n",
      "INFO flwr 2023-07-05 17:02:45,177 | server.py:86 | Initializing global parameters\n",
      "INFO flwr 2023-07-05 17:02:45,178 | server.py:273 | Requesting initial parameters from one random client\n",
      "INFO flwr 2023-07-05 17:02:53,117 | server.py:277 | Received initial parameters from one random client\n",
      "INFO flwr 2023-07-05 17:02:53,118 | server.py:88 | Evaluating initial parameters\n",
      "INFO flwr 2023-07-05 17:02:53,118 | server.py:101 | FL starting\n",
      "DEBUG flwr 2023-07-05 17:03:49,622 | server.py:218 | fit_round 1: strategy sampled 2 clients (out of 2)\n",
      "DEBUG flwr 2023-07-05 17:04:12,667 | server.py:232 | fit_round 1 received 2 results and 0 failures\n",
      "WARNING flwr 2023-07-05 17:04:12,670 | fedavg.py:243 | No fit_metrics_aggregation_fn provided\n",
      "DEBUG flwr 2023-07-05 17:04:12,671 | server.py:168 | evaluate_round 1: strategy sampled 2 clients (out of 2)\n",
      "DEBUG flwr 2023-07-05 17:04:14,619 | server.py:182 | evaluate_round 1 received 2 results and 0 failures\n",
      "WARNING flwr 2023-07-05 17:04:14,620 | fedavg.py:274 | No evaluate_metrics_aggregation_fn provided\n",
      "DEBUG flwr 2023-07-05 17:04:14,620 | server.py:218 | fit_round 2: strategy sampled 2 clients (out of 2)\n",
      "DEBUG flwr 2023-07-05 17:04:36,369 | server.py:232 | fit_round 2 received 2 results and 0 failures\n",
      "DEBUG flwr 2023-07-05 17:04:36,373 | server.py:168 | evaluate_round 2: strategy sampled 2 clients (out of 2)\n",
      "DEBUG flwr 2023-07-05 17:04:37,671 | server.py:182 | evaluate_round 2 received 2 results and 0 failures\n",
      "DEBUG flwr 2023-07-05 17:04:37,673 | server.py:218 | fit_round 3: strategy sampled 2 clients (out of 2)\n",
      "DEBUG flwr 2023-07-05 17:04:59,158 | server.py:232 | fit_round 3 received 2 results and 0 failures\n",
      "DEBUG flwr 2023-07-05 17:04:59,161 | server.py:168 | evaluate_round 3: strategy sampled 2 clients (out of 2)\n",
      "DEBUG flwr 2023-07-05 17:05:00,365 | server.py:182 | evaluate_round 3 received 2 results and 0 failures\n",
      "INFO flwr 2023-07-05 17:05:00,366 | server.py:147 | FL finished in 127.24683529999993\n",
      "INFO flwr 2023-07-05 17:05:00,367 | app.py:218 | app_fit: losses_distributed [(1, 0.008162100799381733), (2, 0.004439713433384895), (3, 0.0029127171728760004)]\n",
      "INFO flwr 2023-07-05 17:05:00,367 | app.py:219 | app_fit: metrics_distributed_fit {}\n",
      "INFO flwr 2023-07-05 17:05:00,368 | app.py:220 | app_fit: metrics_distributed {}\n",
      "INFO flwr 2023-07-05 17:05:00,368 | app.py:221 | app_fit: losses_centralized []\n",
      "INFO flwr 2023-07-05 17:05:00,369 | app.py:222 | app_fit: metrics_centralized {}\n"
     ]
    },
    {
     "data": {
      "text/plain": [
       "History (loss, distributed):\n",
       "\tround 1: 0.008162100799381733\n",
       "\tround 2: 0.004439713433384895\n",
       "\tround 3: 0.0029127171728760004"
      ]
     },
     "execution_count": 4,
     "metadata": {},
     "output_type": "execute_result"
    }
   ],
   "source": [
    "fl.server.start_server(config=fl.server.ServerConfig(num_rounds=3))"
   ]
  },
  {
   "cell_type": "code",
   "execution_count": null,
   "metadata": {},
   "outputs": [],
   "source": []
  }
 ],
 "metadata": {
  "kernelspec": {
   "display_name": "Python 3 (ipykernel)",
   "language": "python",
   "name": "python3"
  },
  "language_info": {
   "codemirror_mode": {
    "name": "ipython",
    "version": 3
   },
   "file_extension": ".py",
   "mimetype": "text/x-python",
   "name": "python",
   "nbconvert_exporter": "python",
   "pygments_lexer": "ipython3",
   "version": "3.9.16"
  }
 },
 "nbformat": 4,
 "nbformat_minor": 2
}
