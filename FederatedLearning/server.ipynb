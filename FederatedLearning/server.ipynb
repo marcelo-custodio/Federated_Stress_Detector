{
 "cells": [
  {
   "cell_type": "code",
   "execution_count": 1,
   "metadata": {},
   "outputs": [],
   "source": [
    "import flwr as fl"
   ]
  },
  {
   "cell_type": "code",
   "execution_count": 2,
   "metadata": {},
   "outputs": [
    {
     "name": "stderr",
     "output_type": "stream",
     "text": [
      "INFO flwr 2023-07-06 01:12:45,299 | app.py:148 | Starting Flower server, config: ServerConfig(num_rounds=3, round_timeout=None)\n",
      "INFO flwr 2023-07-06 01:12:45,341 | app.py:168 | Flower ECE: gRPC server running (3 rounds), SSL is disabled\n",
      "INFO flwr 2023-07-06 01:12:45,341 | server.py:86 | Initializing global parameters\n",
      "INFO flwr 2023-07-06 01:12:45,342 | server.py:273 | Requesting initial parameters from one random client\n",
      "INFO flwr 2023-07-06 01:12:54,013 | server.py:277 | Received initial parameters from one random client\n",
      "INFO flwr 2023-07-06 01:12:54,014 | server.py:88 | Evaluating initial parameters\n",
      "INFO flwr 2023-07-06 01:12:54,015 | server.py:101 | FL starting\n",
      "DEBUG flwr 2023-07-06 01:12:59,692 | server.py:218 | fit_round 1: strategy sampled 2 clients (out of 2)\n",
      "DEBUG flwr 2023-07-06 01:17:44,796 | server.py:232 | fit_round 1 received 2 results and 0 failures\n",
      "WARNING flwr 2023-07-06 01:17:44,799 | fedavg.py:243 | No fit_metrics_aggregation_fn provided\n",
      "DEBUG flwr 2023-07-06 01:17:44,800 | server.py:168 | evaluate_round 1: strategy sampled 2 clients (out of 2)\n",
      "DEBUG flwr 2023-07-06 01:18:46,307 | server.py:182 | evaluate_round 1 received 2 results and 0 failures\n",
      "WARNING flwr 2023-07-06 01:18:46,308 | fedavg.py:274 | No evaluate_metrics_aggregation_fn provided\n",
      "DEBUG flwr 2023-07-06 01:18:46,309 | server.py:218 | fit_round 2: strategy sampled 2 clients (out of 2)\n",
      "DEBUG flwr 2023-07-06 01:21:52,305 | server.py:232 | fit_round 2 received 0 results and 2 failures\n",
      "DEBUG flwr 2023-07-06 01:22:23,614 | server.py:168 | evaluate_round 2: strategy sampled 2 clients (out of 2)\n",
      "DEBUG flwr 2023-07-06 01:23:25,036 | server.py:182 | evaluate_round 2 received 2 results and 0 failures\n",
      "DEBUG flwr 2023-07-06 01:23:25,036 | server.py:218 | fit_round 3: strategy sampled 2 clients (out of 2)\n",
      "DEBUG flwr 2023-07-06 01:23:56,530 | server.py:232 | fit_round 3 received 2 results and 0 failures\n",
      "DEBUG flwr 2023-07-06 01:23:56,535 | server.py:168 | evaluate_round 3: strategy sampled 2 clients (out of 2)\n",
      "DEBUG flwr 2023-07-06 01:24:57,840 | server.py:182 | evaluate_round 3 received 2 results and 0 failures\n",
      "INFO flwr 2023-07-06 01:24:57,841 | server.py:147 | FL finished in 723.8261765000001\n",
      "INFO flwr 2023-07-06 01:24:57,842 | app.py:218 | app_fit: losses_distributed [(1, 0.11489702761173248), (2, 0.11489702761173248), (3, 0.09896014630794525)]\n",
      "INFO flwr 2023-07-06 01:24:57,843 | app.py:219 | app_fit: metrics_distributed_fit {}\n",
      "INFO flwr 2023-07-06 01:24:57,843 | app.py:220 | app_fit: metrics_distributed {}\n",
      "INFO flwr 2023-07-06 01:24:57,844 | app.py:221 | app_fit: losses_centralized []\n",
      "INFO flwr 2023-07-06 01:24:57,845 | app.py:222 | app_fit: metrics_centralized {}\n"
     ]
    },
    {
     "data": {
      "text/plain": [
       "History (loss, distributed):\n",
       "\tround 1: 0.11489702761173248\n",
       "\tround 2: 0.11489702761173248\n",
       "\tround 3: 0.09896014630794525"
      ]
     },
     "execution_count": 2,
     "metadata": {},
     "output_type": "execute_result"
    }
   ],
   "source": [
    "fl.server.start_server(config=fl.server.ServerConfig(num_rounds=3))"
   ]
  },
  {
   "cell_type": "code",
   "execution_count": null,
   "metadata": {},
   "outputs": [],
   "source": []
  }
 ],
 "metadata": {
  "kernelspec": {
   "display_name": "Python 3 (ipykernel)",
   "language": "python",
   "name": "python3"
  },
  "language_info": {
   "codemirror_mode": {
    "name": "ipython",
    "version": 3
   },
   "file_extension": ".py",
   "mimetype": "text/x-python",
   "name": "python",
   "nbconvert_exporter": "python",
   "pygments_lexer": "ipython3",
   "version": "3.9.16"
  }
 },
 "nbformat": 4,
 "nbformat_minor": 2
}
