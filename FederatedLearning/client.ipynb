{
 "cells": [
  {
   "cell_type": "code",
   "execution_count": 11,
   "metadata": {},
   "outputs": [],
   "source": [
    "import flwr as fl\n",
    "import tensorflow as tf\n",
    "from tensorflow.keras.models import Sequential\n",
    "from tensorflow.keras.layers import Dense\n",
    "from tensorflow.keras import Input\n",
    "from tensorflow.data import Dataset\n",
    "import numpy as np\n",
    "import os\n",
    "import itertools"
   ]
  },
  {
   "cell_type": "code",
   "execution_count": 2,
   "metadata": {},
   "outputs": [
    {
     "name": "stdout",
     "output_type": "stream",
     "text": [
      "Num GPUs Available:  0\n",
      "tf.Tensor(\n",
      "[[22. 28.]\n",
      " [49. 64.]], shape=(2, 2), dtype=float32)\n"
     ]
    }
   ],
   "source": [
    "print(\"Num GPUs Available: \", len(tf.config.list_physical_devices('GPU')))\n",
    "tf.debugging.set_log_device_placement(False)\n",
    "a = tf.constant([[1.0, 2.0, 3.0], [4.0, 5.0, 6.0]])\n",
    "b = tf.constant([[1.0, 2.0], [3.0, 4.0], [5.0, 6.0]])\n",
    "c = tf.matmul(a, b)\n",
    "\n",
    "print(c)"
   ]
  },
  {
   "cell_type": "code",
   "execution_count": 9,
   "metadata": {},
   "outputs": [],
   "source": [
    "#(x_train, y_train), (x_test, y_test) = tf.keras.datasets.cifar10.load_data()"
   ]
  },
  {
   "cell_type": "code",
   "execution_count": 10,
   "metadata": {},
   "outputs": [],
   "source": [
    "#model = tf.keras.applications.MobileNetV2((32, 32, 3), classes=10, weights=None)\n",
    "#model.compile(\"adam\", \"sparse_categorical_crossentropy\", metrics=[\"accuracy\"])"
   ]
  },
  {
   "cell_type": "code",
   "execution_count": 6,
   "metadata": {},
   "outputs": [
    {
     "name": "stdout",
     "output_type": "stream",
     "text": [
      "Model: \"sequential_1\"\n",
      "_________________________________________________________________\n",
      " Layer (type)                Output Shape              Param #   \n",
      "=================================================================\n",
      " dense_2 (Dense)             (None, 5)                 15        \n",
      "                                                                 \n",
      " dense_3 (Dense)             (None, 1)                 6         \n",
      "                                                                 \n",
      "=================================================================\n",
      "Total params: 21\n",
      "Trainable params: 21\n",
      "Non-trainable params: 0\n",
      "_________________________________________________________________\n"
     ]
    },
    {
     "name": "stdout",
     "output_type": "stream",
     "text": [
      "Epoch 1/4\n",
      "1000/1000 [==============================] - 6s 5ms/step - loss: 0.6081 - accuracy: 0.7456\n",
      "Epoch 2/4\n",
      "1000/1000 [==============================] - 6s 6ms/step - loss: 0.4088 - accuracy: 0.9298\n",
      "Epoch 3/4\n",
      "1000/1000 [==============================] - 5s 5ms/step - loss: 0.2770 - accuracy: 0.9727\n",
      "Epoch 4/4\n",
      "1000/1000 [==============================] - 5s 5ms/step - loss: 0.2025 - accuracy: 0.9880\n",
      "[[0.71]\n",
      " [0.72]\n",
      " [0.10]\n",
      " [0.10]]\n"
     ]
    }
   ],
   "source": [
    "def data_generator():\n",
    "    while(True):\n",
    "        number1 = np.random.uniform();\n",
    "        number2 = np.random.uniform();\n",
    "        # our input data is an array containing 2 numbers\n",
    "        X = [number1, number2]\n",
    "        # our label is 1 or 0\n",
    "        Y = 1 if number2 > number1 else 0\n",
    "        # our generator should return the input data and the label\n",
    "        yield X, [Y]\n",
    "        \n",
    "# create a dataset from our generator\n",
    "train_dataset = tf.data.Dataset.from_generator(\n",
    "    data_generator, \n",
    "    output_types = (tf.float32, tf.int32),\n",
    "    output_shapes=((2), (1))\n",
    ")\n",
    "train_dataset = train_dataset.batch(batch_size=30)\n",
    "\n",
    "model = Sequential([\n",
    "    Input(shape=(2)),\n",
    "    Dense(5, activation='relu'),\n",
    "    Dense(1, activation='sigmoid')\n",
    "])\n",
    "\n",
    "model.compile(optimizer='adam',\n",
    "              loss=tf.keras.losses.BinaryCrossentropy(),\n",
    "              metrics=['accuracy'])\n",
    "\n",
    "model.summary()\n",
    "\n",
    "model.fit(\n",
    "    train_dataset,\n",
    "    steps_per_epoch=1000,\n",
    "    epochs=4\n",
    ")\n",
    "\n",
    "test_X = np.array([\n",
    "    [0.1, 0.2],\n",
    "    [0.3, 0.4],\n",
    "    [0.5, 0.1],\n",
    "    [0.7, 0.2]\n",
    "])\n",
    "\n",
    "test_Y = np.array([\n",
    "    [1],\n",
    "    [1],\n",
    "    [0],\n",
    "    [0]\n",
    "])\n",
    "\n",
    "\n",
    "\n",
    "Y = model.predict_on_batch(test_X)\n",
    "np.set_printoptions(formatter={'float': lambda x: \"{0:0.2f}\".format(x)})\n",
    "print(Y)"
   ]
  },
  {
   "cell_type": "code",
   "execution_count": 10,
   "metadata": {},
   "outputs": [],
   "source": [
    "def representative_dataset_gen():\n",
    "    for _ in range(10000):\n",
    "        yield [\n",
    "            np.array(\n",
    "                [np.random.uniform(), np.random.uniform()]\n",
    "            , dtype=np.float32)\n",
    "        ]"
   ]
  },
  {
   "cell_type": "code",
   "execution_count": 12,
   "metadata": {},
   "outputs": [],
   "source": [
    "class CifarClient(fl.client.NumPyClient):\n",
    "    def get_parameters(self, config):\n",
    "        return model.get_weights()\n",
    "\n",
    "    def fit(self, parameters, config):\n",
    "        model.set_weights(parameters)\n",
    "        #model.fit(x_train, y_train, epochs=1, batch_size=32, steps_per_epoch=3)\n",
    "\n",
    "        print(\"executando fit\")\n",
    "        model.fit(\n",
    "            train_dataset,\n",
    "            steps_per_epoch=1000,\n",
    "            epochs=4\n",
    "        )\n",
    "\n",
    "        return model.get_weights(), 2, {}\n",
    "\n",
    "    def evaluate(self, parameters, config):\n",
    "        model.set_weights(parameters)\n",
    "        \n",
    "        print(\"executando set\")\n",
    "        converter = tf.lite.TFLiteConverter.from_keras_model(model)\n",
    "        converter.optimizations = [tf.lite.Optimize.DEFAULT]\n",
    "        converter.representative_dataset = representative_dataset_gen\n",
    "        converter.target_spec.supported_ops = [tf.lite.OpsSet.TFLITE_BUILTINS_INT8]\n",
    "        tflite_model = converter.convert()\n",
    "        with open('model.tflite', 'wb') as f:\n",
    "            f.write(tflite_model)\n",
    "        \n",
    "        loss, accuracy = model.evaluate(test_X, test_Y)\n",
    "        return loss, len(test_X), {\"accuracy\": float(accuracy)}"
   ]
  },
  {
   "cell_type": "code",
   "execution_count": 13,
   "metadata": {},
   "outputs": [
    {
     "name": "stderr",
     "output_type": "stream",
     "text": [
      "INFO flwr 2023-07-05 17:02:53,079 | grpc.py:50 | Opened insecure gRPC connection (no certificates were passed)\n",
      "DEBUG flwr 2023-07-05 17:02:53,110 | connection.py:39 | ChannelConnectivity.IDLE\n",
      "DEBUG flwr 2023-07-05 17:02:53,113 | connection.py:39 | ChannelConnectivity.READY\n"
     ]
    },
    {
     "name": "stdout",
     "output_type": "stream",
     "text": [
      "executando fit\n",
      "Epoch 1/4\n",
      "1000/1000 [==============================] - 6s 5ms/step - loss: 0.0430 - accuracy: 0.9985\n",
      "Epoch 2/4\n",
      "1000/1000 [==============================] - 5s 5ms/step - loss: 0.0412 - accuracy: 0.9982\n",
      "Epoch 3/4\n",
      "1000/1000 [==============================] - 6s 6ms/step - loss: 0.0396 - accuracy: 0.9984\n",
      "Epoch 4/4\n",
      "1000/1000 [==============================] - 6s 6ms/step - loss: 0.0377 - accuracy: 0.9984\n",
      "executando set\n"
     ]
    },
    {
     "name": "stderr",
     "output_type": "stream",
     "text": [
      "WARNING:absl:Found untraced functions such as _update_step_xla while saving (showing 1 of 1). These functions will not be directly callable after loading.\n"
     ]
    },
    {
     "name": "stdout",
     "output_type": "stream",
     "text": [
      "INFO:tensorflow:Assets written to: C:\\Users\\custo\\AppData\\Local\\Temp\\tmp5oi1whry\\assets\n"
     ]
    },
    {
     "name": "stderr",
     "output_type": "stream",
     "text": [
      "INFO:tensorflow:Assets written to: C:\\Users\\custo\\AppData\\Local\\Temp\\tmp5oi1whry\\assets\n",
      "c:\\Program Files\\Conda\\envs\\ubq\\lib\\site-packages\\tensorflow\\lite\\python\\convert.py:789: UserWarning: Statistics for quantized inputs were expected, but not specified; continuing anyway.\n",
      "  warnings.warn(\"Statistics for quantized inputs were expected, but not \"\n"
     ]
    },
    {
     "name": "stdout",
     "output_type": "stream",
     "text": [
      "1/1 [==============================] - 0s 33ms/step - loss: 0.0082 - accuracy: 1.0000\n",
      "executando fit\n",
      "Epoch 1/4\n",
      "1000/1000 [==============================] - 6s 6ms/step - loss: 0.0379 - accuracy: 0.9980\n",
      "Epoch 2/4\n",
      "1000/1000 [==============================] - 5s 5ms/step - loss: 0.0362 - accuracy: 0.9982\n",
      "Epoch 3/4\n",
      "1000/1000 [==============================] - 5s 5ms/step - loss: 0.0346 - accuracy: 0.9986\n",
      "Epoch 4/4\n",
      "1000/1000 [==============================] - 5s 5ms/step - loss: 0.0342 - accuracy: 0.9985\n",
      "executando set\n"
     ]
    },
    {
     "name": "stderr",
     "output_type": "stream",
     "text": [
      "WARNING:absl:Found untraced functions such as _update_step_xla while saving (showing 1 of 1). These functions will not be directly callable after loading.\n"
     ]
    },
    {
     "name": "stdout",
     "output_type": "stream",
     "text": [
      "INFO:tensorflow:Assets written to: C:\\Users\\custo\\AppData\\Local\\Temp\\tmpzud14jen\\assets\n"
     ]
    },
    {
     "name": "stderr",
     "output_type": "stream",
     "text": [
      "INFO:tensorflow:Assets written to: C:\\Users\\custo\\AppData\\Local\\Temp\\tmpzud14jen\\assets\n",
      "c:\\Program Files\\Conda\\envs\\ubq\\lib\\site-packages\\tensorflow\\lite\\python\\convert.py:789: UserWarning: Statistics for quantized inputs were expected, but not specified; continuing anyway.\n",
      "  warnings.warn(\"Statistics for quantized inputs were expected, but not \"\n"
     ]
    },
    {
     "name": "stdout",
     "output_type": "stream",
     "text": [
      "1/1 [==============================] - 0s 29ms/step - loss: 0.0044 - accuracy: 1.0000\n",
      "executando fit\n",
      "Epoch 1/4\n",
      "1000/1000 [==============================] - 5s 5ms/step - loss: 0.0317 - accuracy: 0.9980\n",
      "Epoch 2/4\n",
      "1000/1000 [==============================] - 5s 5ms/step - loss: 0.0306 - accuracy: 0.9983\n",
      "Epoch 3/4\n",
      "1000/1000 [==============================] - 5s 5ms/step - loss: 0.0316 - accuracy: 0.9984\n",
      "Epoch 4/4\n",
      "1000/1000 [==============================] - 5s 5ms/step - loss: 0.0288 - accuracy: 0.9987\n",
      "executando set\n"
     ]
    },
    {
     "name": "stderr",
     "output_type": "stream",
     "text": [
      "WARNING:absl:Found untraced functions such as _update_step_xla while saving (showing 1 of 1). These functions will not be directly callable after loading.\n"
     ]
    },
    {
     "name": "stdout",
     "output_type": "stream",
     "text": [
      "INFO:tensorflow:Assets written to: C:\\Users\\custo\\AppData\\Local\\Temp\\tmpnvgkxntt\\assets\n"
     ]
    },
    {
     "name": "stderr",
     "output_type": "stream",
     "text": [
      "INFO:tensorflow:Assets written to: C:\\Users\\custo\\AppData\\Local\\Temp\\tmpnvgkxntt\\assets\n"
     ]
    },
    {
     "name": "stdout",
     "output_type": "stream",
     "text": [
      "1/1 [==============================] - ETA: 0s - loss: 0.0029 - accuracy: 1.0000"
     ]
    },
    {
     "name": "stderr",
     "output_type": "stream",
     "text": [
      "c:\\Program Files\\Conda\\envs\\ubq\\lib\\site-packages\\tensorflow\\lite\\python\\convert.py:789: UserWarning: Statistics for quantized inputs were expected, but not specified; continuing anyway.\n",
      "  warnings.warn(\"Statistics for quantized inputs were expected, but not \"\n"
     ]
    },
    {
     "name": "stdout",
     "output_type": "stream",
     "text": [
      "1/1 [==============================] - 0s 24ms/step - loss: 0.0029 - accuracy: 1.0000\n"
     ]
    },
    {
     "name": "stderr",
     "output_type": "stream",
     "text": [
      "DEBUG flwr 2023-07-05 17:05:00,376 | connection.py:113 | gRPC channel closed\n",
      "DEBUG:flwr:gRPC channel closed\n",
      "INFO flwr 2023-07-05 17:05:00,378 | app.py:185 | Disconnect and shut down\n",
      "INFO:flwr:Disconnect and shut down\n"
     ]
    }
   ],
   "source": [
    "fl.client.start_numpy_client(server_address=\"localhost:8080\", client=CifarClient())"
   ]
  },
  {
   "cell_type": "code",
   "execution_count": null,
   "metadata": {},
   "outputs": [],
   "source": []
  }
 ],
 "metadata": {
  "kernelspec": {
   "display_name": "Python 3 (ipykernel)",
   "language": "python",
   "name": "python3"
  },
  "language_info": {
   "codemirror_mode": {
    "name": "ipython",
    "version": 3
   },
   "file_extension": ".py",
   "mimetype": "text/x-python",
   "name": "python",
   "nbconvert_exporter": "python",
   "pygments_lexer": "ipython3",
   "version": "3.9.16"
  }
 },
 "nbformat": 4,
 "nbformat_minor": 2
}
